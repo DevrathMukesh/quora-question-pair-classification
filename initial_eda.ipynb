{
  "nbformat": 4,
  "nbformat_minor": 0,
  "metadata": {
    "colab": {
      "provenance": [],
      "gpuType": "T4"
    },
    "kernelspec": {
      "name": "python3",
      "display_name": "Python 3"
    },
    "language_info": {
      "name": "python"
    },
    "accelerator": "GPU"
  },
  "cells": [
    {
      "cell_type": "code",
      "execution_count": null,
      "metadata": {
        "id": "tEpBsbCwF2ri"
      },
      "outputs": [],
      "source": [
        "!mkdir -p ~/.kaggle\n",
        "!mv kaggle.json ~/.kaggle/\n",
        "!chmod 600 ~/.kaggle/kaggle.json\n"
      ]
    },
    {
      "cell_type": "code",
      "source": [
        "!kaggle competitions download -c quora-question-pairs\n"
      ],
      "metadata": {
        "colab": {
          "base_uri": "https://localhost:8080/"
        },
        "id": "kMTofgkZr6Ow",
        "outputId": "4b5890b5-c550-47b8-f557-9fa6dc25d894"
      },
      "execution_count": null,
      "outputs": [
        {
          "output_type": "stream",
          "name": "stdout",
          "text": [
            "quora-question-pairs.zip: Skipping, found more recently modified local copy (use --force to force download)\n"
          ]
        }
      ]
    },
    {
      "cell_type": "code",
      "source": [
        "import zipfile\n",
        "with zipfile.ZipFile('quora-question-pairs.zip', 'r') as zip_ref:\n",
        "    zip_ref.extractall('/content/quora_question_pairs')\n"
      ],
      "metadata": {
        "id": "SKO0d3nVr7YC"
      },
      "execution_count": null,
      "outputs": []
    },
    {
      "cell_type": "code",
      "source": [
        "import zipfile\n",
        "\n",
        "# Unzip train.csv.zip\n",
        "with zipfile.ZipFile('/content/quora_question_pairs/train.csv.zip', 'r') as zip_ref:\n",
        "    zip_ref.extractall('/content/quora_question_pairs')\n"
      ],
      "metadata": {
        "id": "9I7QGikbuINS"
      },
      "execution_count": null,
      "outputs": []
    },
    {
      "cell_type": "markdown",
      "source": [
        "### Quora Question Pairs - Initial Exploratory Data Analysis (EDA)"
      ],
      "metadata": {
        "id": "Hi60wpx6Zlix"
      }
    },
    {
      "cell_type": "code",
      "source": [
        "# Importing Required Libraries\n",
        "import numpy as np\n",
        "import pandas as pd\n",
        "import seaborn as sns\n",
        "import matplotlib.pyplot as plt"
      ],
      "metadata": {
        "id": "oEAScSjEtq21"
      },
      "execution_count": null,
      "outputs": []
    },
    {
      "cell_type": "code",
      "source": [
        "# Load Data\n",
        "# Reading the dataset into a pandas DataFrame\n",
        "df = pd.read_csv(\"/content/quora_question_pairs/train.csv\")\n",
        "print(\"Dataset Shape:\", df.shape)\n"
      ],
      "metadata": {
        "colab": {
          "base_uri": "https://localhost:8080/"
        },
        "id": "FejqI-9htt18",
        "outputId": "49068c51-445e-4c40-a6a5-4b4b267de4dc"
      },
      "execution_count": null,
      "outputs": [
        {
          "output_type": "stream",
          "name": "stdout",
          "text": [
            "Dataset Shape: (404290, 6)\n"
          ]
        }
      ]
    },
    {
      "cell_type": "code",
      "source": [
        "# Displaying Random Samples\n",
        "# Displaying 10 random rows to understand the structure and content of the data\n",
        "df.sample(10)"
      ],
      "metadata": {
        "colab": {
          "base_uri": "https://localhost:8080/",
          "height": 363
        },
        "id": "gVaUBcwkuXXI",
        "outputId": "e92d2bca-d6f0-4441-ad18-fe5bd5fad7ab"
      },
      "execution_count": null,
      "outputs": [
        {
          "output_type": "execute_result",
          "data": {
            "text/plain": [
              "            id    qid1    qid2  \\\n",
              "180350  180350  276536  276537   \n",
              "306371  306371  429886  429887   \n",
              "213386  213386  318693  318694   \n",
              "226995  226995  335733  335734   \n",
              "58013    58013   83186    1526   \n",
              "50317    50317   89407   89408   \n",
              "279189  279189   12645   99360   \n",
              "358056  358056  421306  194113   \n",
              "226923  226923  335642  242217   \n",
              "77364    77364   91701   87225   \n",
              "\n",
              "                                                question1  \\\n",
              "180350  What is the structure of a microscope and its ...   \n",
              "306371             How is structural engineering in UVCE?   \n",
              "213386  Did Mayank Parmar of SDMCET (Batch 2011) reall...   \n",
              "226995  Is the first week of January of this year a go...   \n",
              "58013      What can I do to stop thinking about anything?   \n",
              "50317         What's the best online resource to learn C?   \n",
              "279189   Can Darwin's theory of evolution ever be proven?   \n",
              "358056  What is the cause of conflict between Israel a...   \n",
              "226923           What are some ways to cope with anxiety?   \n",
              "77364           What is the weirdest thing that you have?   \n",
              "\n",
              "                                                question2  is_duplicate  \n",
              "180350  What are the different parts of a compound lig...             0  \n",
              "306371  How is mechanical engineering in UVCE? How are...             0  \n",
              "213386        What is the role of SDMCET media in SDMCET?             0  \n",
              "226995  Is the first week of July of this year a good ...             0  \n",
              "58013           How should I stop thinking about someone?             1  \n",
              "50317   What are the best online websites to study c p...             1  \n",
              "279189  Why is Darwin's theory of evolution still cons...             1  \n",
              "358056  Why is there conflict between the people of Is...             1  \n",
              "226923         How do you help someone cope with anxiety?             1  \n",
              "77364   What is the weirdest thing you have seen some ...             0  "
            ],
            "text/html": [
              "\n",
              "  <div id=\"df-ab1eff9d-7ded-4948-b0db-290261ae5c36\" class=\"colab-df-container\">\n",
              "    <div>\n",
              "<style scoped>\n",
              "    .dataframe tbody tr th:only-of-type {\n",
              "        vertical-align: middle;\n",
              "    }\n",
              "\n",
              "    .dataframe tbody tr th {\n",
              "        vertical-align: top;\n",
              "    }\n",
              "\n",
              "    .dataframe thead th {\n",
              "        text-align: right;\n",
              "    }\n",
              "</style>\n",
              "<table border=\"1\" class=\"dataframe\">\n",
              "  <thead>\n",
              "    <tr style=\"text-align: right;\">\n",
              "      <th></th>\n",
              "      <th>id</th>\n",
              "      <th>qid1</th>\n",
              "      <th>qid2</th>\n",
              "      <th>question1</th>\n",
              "      <th>question2</th>\n",
              "      <th>is_duplicate</th>\n",
              "    </tr>\n",
              "  </thead>\n",
              "  <tbody>\n",
              "    <tr>\n",
              "      <th>180350</th>\n",
              "      <td>180350</td>\n",
              "      <td>276536</td>\n",
              "      <td>276537</td>\n",
              "      <td>What is the structure of a microscope and its ...</td>\n",
              "      <td>What are the different parts of a compound lig...</td>\n",
              "      <td>0</td>\n",
              "    </tr>\n",
              "    <tr>\n",
              "      <th>306371</th>\n",
              "      <td>306371</td>\n",
              "      <td>429886</td>\n",
              "      <td>429887</td>\n",
              "      <td>How is structural engineering in UVCE?</td>\n",
              "      <td>How is mechanical engineering in UVCE? How are...</td>\n",
              "      <td>0</td>\n",
              "    </tr>\n",
              "    <tr>\n",
              "      <th>213386</th>\n",
              "      <td>213386</td>\n",
              "      <td>318693</td>\n",
              "      <td>318694</td>\n",
              "      <td>Did Mayank Parmar of SDMCET (Batch 2011) reall...</td>\n",
              "      <td>What is the role of SDMCET media in SDMCET?</td>\n",
              "      <td>0</td>\n",
              "    </tr>\n",
              "    <tr>\n",
              "      <th>226995</th>\n",
              "      <td>226995</td>\n",
              "      <td>335733</td>\n",
              "      <td>335734</td>\n",
              "      <td>Is the first week of January of this year a go...</td>\n",
              "      <td>Is the first week of July of this year a good ...</td>\n",
              "      <td>0</td>\n",
              "    </tr>\n",
              "    <tr>\n",
              "      <th>58013</th>\n",
              "      <td>58013</td>\n",
              "      <td>83186</td>\n",
              "      <td>1526</td>\n",
              "      <td>What can I do to stop thinking about anything?</td>\n",
              "      <td>How should I stop thinking about someone?</td>\n",
              "      <td>1</td>\n",
              "    </tr>\n",
              "    <tr>\n",
              "      <th>50317</th>\n",
              "      <td>50317</td>\n",
              "      <td>89407</td>\n",
              "      <td>89408</td>\n",
              "      <td>What's the best online resource to learn C?</td>\n",
              "      <td>What are the best online websites to study c p...</td>\n",
              "      <td>1</td>\n",
              "    </tr>\n",
              "    <tr>\n",
              "      <th>279189</th>\n",
              "      <td>279189</td>\n",
              "      <td>12645</td>\n",
              "      <td>99360</td>\n",
              "      <td>Can Darwin's theory of evolution ever be proven?</td>\n",
              "      <td>Why is Darwin's theory of evolution still cons...</td>\n",
              "      <td>1</td>\n",
              "    </tr>\n",
              "    <tr>\n",
              "      <th>358056</th>\n",
              "      <td>358056</td>\n",
              "      <td>421306</td>\n",
              "      <td>194113</td>\n",
              "      <td>What is the cause of conflict between Israel a...</td>\n",
              "      <td>Why is there conflict between the people of Is...</td>\n",
              "      <td>1</td>\n",
              "    </tr>\n",
              "    <tr>\n",
              "      <th>226923</th>\n",
              "      <td>226923</td>\n",
              "      <td>335642</td>\n",
              "      <td>242217</td>\n",
              "      <td>What are some ways to cope with anxiety?</td>\n",
              "      <td>How do you help someone cope with anxiety?</td>\n",
              "      <td>1</td>\n",
              "    </tr>\n",
              "    <tr>\n",
              "      <th>77364</th>\n",
              "      <td>77364</td>\n",
              "      <td>91701</td>\n",
              "      <td>87225</td>\n",
              "      <td>What is the weirdest thing that you have?</td>\n",
              "      <td>What is the weirdest thing you have seen some ...</td>\n",
              "      <td>0</td>\n",
              "    </tr>\n",
              "  </tbody>\n",
              "</table>\n",
              "</div>\n",
              "    <div class=\"colab-df-buttons\">\n",
              "\n",
              "  <div class=\"colab-df-container\">\n",
              "    <button class=\"colab-df-convert\" onclick=\"convertToInteractive('df-ab1eff9d-7ded-4948-b0db-290261ae5c36')\"\n",
              "            title=\"Convert this dataframe to an interactive table.\"\n",
              "            style=\"display:none;\">\n",
              "\n",
              "  <svg xmlns=\"http://www.w3.org/2000/svg\" height=\"24px\" viewBox=\"0 -960 960 960\">\n",
              "    <path d=\"M120-120v-720h720v720H120Zm60-500h600v-160H180v160Zm220 220h160v-160H400v160Zm0 220h160v-160H400v160ZM180-400h160v-160H180v160Zm440 0h160v-160H620v160ZM180-180h160v-160H180v160Zm440 0h160v-160H620v160Z\"/>\n",
              "  </svg>\n",
              "    </button>\n",
              "\n",
              "  <style>\n",
              "    .colab-df-container {\n",
              "      display:flex;\n",
              "      gap: 12px;\n",
              "    }\n",
              "\n",
              "    .colab-df-convert {\n",
              "      background-color: #E8F0FE;\n",
              "      border: none;\n",
              "      border-radius: 50%;\n",
              "      cursor: pointer;\n",
              "      display: none;\n",
              "      fill: #1967D2;\n",
              "      height: 32px;\n",
              "      padding: 0 0 0 0;\n",
              "      width: 32px;\n",
              "    }\n",
              "\n",
              "    .colab-df-convert:hover {\n",
              "      background-color: #E2EBFA;\n",
              "      box-shadow: 0px 1px 2px rgba(60, 64, 67, 0.3), 0px 1px 3px 1px rgba(60, 64, 67, 0.15);\n",
              "      fill: #174EA6;\n",
              "    }\n",
              "\n",
              "    .colab-df-buttons div {\n",
              "      margin-bottom: 4px;\n",
              "    }\n",
              "\n",
              "    [theme=dark] .colab-df-convert {\n",
              "      background-color: #3B4455;\n",
              "      fill: #D2E3FC;\n",
              "    }\n",
              "\n",
              "    [theme=dark] .colab-df-convert:hover {\n",
              "      background-color: #434B5C;\n",
              "      box-shadow: 0px 1px 3px 1px rgba(0, 0, 0, 0.15);\n",
              "      filter: drop-shadow(0px 1px 2px rgba(0, 0, 0, 0.3));\n",
              "      fill: #FFFFFF;\n",
              "    }\n",
              "  </style>\n",
              "\n",
              "    <script>\n",
              "      const buttonEl =\n",
              "        document.querySelector('#df-ab1eff9d-7ded-4948-b0db-290261ae5c36 button.colab-df-convert');\n",
              "      buttonEl.style.display =\n",
              "        google.colab.kernel.accessAllowed ? 'block' : 'none';\n",
              "\n",
              "      async function convertToInteractive(key) {\n",
              "        const element = document.querySelector('#df-ab1eff9d-7ded-4948-b0db-290261ae5c36');\n",
              "        const dataTable =\n",
              "          await google.colab.kernel.invokeFunction('convertToInteractive',\n",
              "                                                    [key], {});\n",
              "        if (!dataTable) return;\n",
              "\n",
              "        const docLinkHtml = 'Like what you see? Visit the ' +\n",
              "          '<a target=\"_blank\" href=https://colab.research.google.com/notebooks/data_table.ipynb>data table notebook</a>'\n",
              "          + ' to learn more about interactive tables.';\n",
              "        element.innerHTML = '';\n",
              "        dataTable['output_type'] = 'display_data';\n",
              "        await google.colab.output.renderOutput(dataTable, element);\n",
              "        const docLink = document.createElement('div');\n",
              "        docLink.innerHTML = docLinkHtml;\n",
              "        element.appendChild(docLink);\n",
              "      }\n",
              "    </script>\n",
              "  </div>\n",
              "\n",
              "\n",
              "<div id=\"df-d8a77c1f-4ff8-48b1-b93c-5390805afeba\">\n",
              "  <button class=\"colab-df-quickchart\" onclick=\"quickchart('df-d8a77c1f-4ff8-48b1-b93c-5390805afeba')\"\n",
              "            title=\"Suggest charts\"\n",
              "            style=\"display:none;\">\n",
              "\n",
              "<svg xmlns=\"http://www.w3.org/2000/svg\" height=\"24px\"viewBox=\"0 0 24 24\"\n",
              "     width=\"24px\">\n",
              "    <g>\n",
              "        <path d=\"M19 3H5c-1.1 0-2 .9-2 2v14c0 1.1.9 2 2 2h14c1.1 0 2-.9 2-2V5c0-1.1-.9-2-2-2zM9 17H7v-7h2v7zm4 0h-2V7h2v10zm4 0h-2v-4h2v4z\"/>\n",
              "    </g>\n",
              "</svg>\n",
              "  </button>\n",
              "\n",
              "<style>\n",
              "  .colab-df-quickchart {\n",
              "      --bg-color: #E8F0FE;\n",
              "      --fill-color: #1967D2;\n",
              "      --hover-bg-color: #E2EBFA;\n",
              "      --hover-fill-color: #174EA6;\n",
              "      --disabled-fill-color: #AAA;\n",
              "      --disabled-bg-color: #DDD;\n",
              "  }\n",
              "\n",
              "  [theme=dark] .colab-df-quickchart {\n",
              "      --bg-color: #3B4455;\n",
              "      --fill-color: #D2E3FC;\n",
              "      --hover-bg-color: #434B5C;\n",
              "      --hover-fill-color: #FFFFFF;\n",
              "      --disabled-bg-color: #3B4455;\n",
              "      --disabled-fill-color: #666;\n",
              "  }\n",
              "\n",
              "  .colab-df-quickchart {\n",
              "    background-color: var(--bg-color);\n",
              "    border: none;\n",
              "    border-radius: 50%;\n",
              "    cursor: pointer;\n",
              "    display: none;\n",
              "    fill: var(--fill-color);\n",
              "    height: 32px;\n",
              "    padding: 0;\n",
              "    width: 32px;\n",
              "  }\n",
              "\n",
              "  .colab-df-quickchart:hover {\n",
              "    background-color: var(--hover-bg-color);\n",
              "    box-shadow: 0 1px 2px rgba(60, 64, 67, 0.3), 0 1px 3px 1px rgba(60, 64, 67, 0.15);\n",
              "    fill: var(--button-hover-fill-color);\n",
              "  }\n",
              "\n",
              "  .colab-df-quickchart-complete:disabled,\n",
              "  .colab-df-quickchart-complete:disabled:hover {\n",
              "    background-color: var(--disabled-bg-color);\n",
              "    fill: var(--disabled-fill-color);\n",
              "    box-shadow: none;\n",
              "  }\n",
              "\n",
              "  .colab-df-spinner {\n",
              "    border: 2px solid var(--fill-color);\n",
              "    border-color: transparent;\n",
              "    border-bottom-color: var(--fill-color);\n",
              "    animation:\n",
              "      spin 1s steps(1) infinite;\n",
              "  }\n",
              "\n",
              "  @keyframes spin {\n",
              "    0% {\n",
              "      border-color: transparent;\n",
              "      border-bottom-color: var(--fill-color);\n",
              "      border-left-color: var(--fill-color);\n",
              "    }\n",
              "    20% {\n",
              "      border-color: transparent;\n",
              "      border-left-color: var(--fill-color);\n",
              "      border-top-color: var(--fill-color);\n",
              "    }\n",
              "    30% {\n",
              "      border-color: transparent;\n",
              "      border-left-color: var(--fill-color);\n",
              "      border-top-color: var(--fill-color);\n",
              "      border-right-color: var(--fill-color);\n",
              "    }\n",
              "    40% {\n",
              "      border-color: transparent;\n",
              "      border-right-color: var(--fill-color);\n",
              "      border-top-color: var(--fill-color);\n",
              "    }\n",
              "    60% {\n",
              "      border-color: transparent;\n",
              "      border-right-color: var(--fill-color);\n",
              "    }\n",
              "    80% {\n",
              "      border-color: transparent;\n",
              "      border-right-color: var(--fill-color);\n",
              "      border-bottom-color: var(--fill-color);\n",
              "    }\n",
              "    90% {\n",
              "      border-color: transparent;\n",
              "      border-bottom-color: var(--fill-color);\n",
              "    }\n",
              "  }\n",
              "</style>\n",
              "\n",
              "  <script>\n",
              "    async function quickchart(key) {\n",
              "      const quickchartButtonEl =\n",
              "        document.querySelector('#' + key + ' button');\n",
              "      quickchartButtonEl.disabled = true;  // To prevent multiple clicks.\n",
              "      quickchartButtonEl.classList.add('colab-df-spinner');\n",
              "      try {\n",
              "        const charts = await google.colab.kernel.invokeFunction(\n",
              "            'suggestCharts', [key], {});\n",
              "      } catch (error) {\n",
              "        console.error('Error during call to suggestCharts:', error);\n",
              "      }\n",
              "      quickchartButtonEl.classList.remove('colab-df-spinner');\n",
              "      quickchartButtonEl.classList.add('colab-df-quickchart-complete');\n",
              "    }\n",
              "    (() => {\n",
              "      let quickchartButtonEl =\n",
              "        document.querySelector('#df-d8a77c1f-4ff8-48b1-b93c-5390805afeba button');\n",
              "      quickchartButtonEl.style.display =\n",
              "        google.colab.kernel.accessAllowed ? 'block' : 'none';\n",
              "    })();\n",
              "  </script>\n",
              "</div>\n",
              "\n",
              "    </div>\n",
              "  </div>\n"
            ],
            "application/vnd.google.colaboratory.intrinsic+json": {
              "type": "dataframe",
              "summary": "{\n  \"name\": \"df\",\n  \"rows\": 10,\n  \"fields\": [\n    {\n      \"column\": \"id\",\n      \"properties\": {\n        \"dtype\": \"number\",\n        \"std\": 106530,\n        \"min\": 50317,\n        \"max\": 358056,\n        \"num_unique_values\": 10,\n        \"samples\": [\n          226923,\n          306371,\n          50317\n        ],\n        \"semantic_type\": \"\",\n        \"description\": \"\"\n      }\n    },\n    {\n      \"column\": \"qid1\",\n      \"properties\": {\n        \"dtype\": \"number\",\n        \"std\": 154817,\n        \"min\": 12645,\n        \"max\": 429886,\n        \"num_unique_values\": 10,\n        \"samples\": [\n          335642,\n          429886,\n          89407\n        ],\n        \"semantic_type\": \"\",\n        \"description\": \"\"\n      }\n    },\n    {\n      \"column\": \"qid2\",\n      \"properties\": {\n        \"dtype\": \"number\",\n        \"std\": 136196,\n        \"min\": 1526,\n        \"max\": 429887,\n        \"num_unique_values\": 10,\n        \"samples\": [\n          242217,\n          429887,\n          89408\n        ],\n        \"semantic_type\": \"\",\n        \"description\": \"\"\n      }\n    },\n    {\n      \"column\": \"question1\",\n      \"properties\": {\n        \"dtype\": \"string\",\n        \"num_unique_values\": 10,\n        \"samples\": [\n          \"What are some ways to cope with anxiety?\",\n          \"How is structural engineering in UVCE?\",\n          \"What's the best online resource to learn C?\"\n        ],\n        \"semantic_type\": \"\",\n        \"description\": \"\"\n      }\n    },\n    {\n      \"column\": \"question2\",\n      \"properties\": {\n        \"dtype\": \"string\",\n        \"num_unique_values\": 10,\n        \"samples\": [\n          \"How do you help someone cope with anxiety?\",\n          \"How is mechanical engineering in UVCE? How are the placements?\",\n          \"What are the best online websites to study c programming?\"\n        ],\n        \"semantic_type\": \"\",\n        \"description\": \"\"\n      }\n    },\n    {\n      \"column\": \"is_duplicate\",\n      \"properties\": {\n        \"dtype\": \"number\",\n        \"std\": 0,\n        \"min\": 0,\n        \"max\": 1,\n        \"num_unique_values\": 2,\n        \"samples\": [\n          1,\n          0\n        ],\n        \"semantic_type\": \"\",\n        \"description\": \"\"\n      }\n    }\n  ]\n}"
            }
          },
          "metadata": {},
          "execution_count": 41
        }
      ]
    },
    {
      "cell_type": "code",
      "source": [
        "# Dataset Information\n",
        "# Displaying data type and non-null count of each column\n",
        "df.info()"
      ],
      "metadata": {
        "colab": {
          "base_uri": "https://localhost:8080/"
        },
        "id": "AIFuKlhRvR8h",
        "outputId": "5c0dd316-4934-4f83-821c-d6606710b276"
      },
      "execution_count": null,
      "outputs": [
        {
          "output_type": "stream",
          "name": "stdout",
          "text": [
            "<class 'pandas.core.frame.DataFrame'>\n",
            "RangeIndex: 404290 entries, 0 to 404289\n",
            "Data columns (total 6 columns):\n",
            " #   Column        Non-Null Count   Dtype \n",
            "---  ------        --------------   ----- \n",
            " 0   id            404290 non-null  int64 \n",
            " 1   qid1          404290 non-null  int64 \n",
            " 2   qid2          404290 non-null  int64 \n",
            " 3   question1     404289 non-null  object\n",
            " 4   question2     404288 non-null  object\n",
            " 5   is_duplicate  404290 non-null  int64 \n",
            "dtypes: int64(4), object(2)\n",
            "memory usage: 18.5+ MB\n"
          ]
        }
      ]
    },
    {
      "cell_type": "code",
      "source": [
        "# Checking for Missing Values\n",
        "# Checking for missing values in each column\n",
        "print(\"Missing values per column:\\n\", df.isnull().sum())"
      ],
      "metadata": {
        "colab": {
          "base_uri": "https://localhost:8080/"
        },
        "id": "yYFvJrHPvTtp",
        "outputId": "93447fe3-8711-452d-817f-93583db803ab"
      },
      "execution_count": null,
      "outputs": [
        {
          "output_type": "stream",
          "name": "stdout",
          "text": [
            "Missing values per column:\n",
            " id              0\n",
            "qid1            0\n",
            "qid2            0\n",
            "question1       1\n",
            "question2       2\n",
            "is_duplicate    0\n",
            "dtype: int64\n"
          ]
        }
      ]
    },
    {
      "cell_type": "code",
      "source": [
        "# Checking for Duplicate Rows\n",
        "# Calculating the number of duplicate rows\n",
        "print(\"Duplicate Rows:\", df.duplicated().sum())"
      ],
      "metadata": {
        "colab": {
          "base_uri": "https://localhost:8080/"
        },
        "id": "Zc0vmhxUvVJ3",
        "outputId": "dab4e295-fcd4-4f09-8125-b13b99b7e2eb"
      },
      "execution_count": null,
      "outputs": [
        {
          "output_type": "stream",
          "name": "stdout",
          "text": [
            "Duplicate Rows: 0\n"
          ]
        }
      ]
    },
    {
      "cell_type": "code",
      "source": [
        "# Distribution of Duplicate and Non-Duplicate Questions\n",
        "# Analyzing the distribution of duplicate (is_duplicate=1) and non-duplicate (is_duplicate=0) question pairs\n",
        "print(\"Duplicate Question Counts:\\n\", df['is_duplicate'].value_counts())\n",
        "print(\"Percentage Distribution of Duplicates:\\n\", (df['is_duplicate'].value_counts() / df['is_duplicate'].count()) * 100)\n"
      ],
      "metadata": {
        "colab": {
          "base_uri": "https://localhost:8080/"
        },
        "id": "e0kK7_aMvWmE",
        "outputId": "098d552a-4aa1-4823-eae5-f2da9c52d40e"
      },
      "execution_count": null,
      "outputs": [
        {
          "output_type": "stream",
          "name": "stdout",
          "text": [
            "Duplicate Question Counts:\n",
            " is_duplicate\n",
            "0    255027\n",
            "1    149263\n",
            "Name: count, dtype: int64\n",
            "Percentage Distribution of Duplicates:\n",
            " is_duplicate\n",
            "0    63.080215\n",
            "1    36.919785\n",
            "Name: count, dtype: float64\n"
          ]
        }
      ]
    },
    {
      "cell_type": "code",
      "source": [
        "# Visualizing the Distribution of Duplicate and Non-Duplicate Questions\n",
        "# Bar plot to show the frequency of duplicate and non-duplicate pairs\n",
        "df['is_duplicate'].value_counts().plot(kind='bar')\n",
        "plt.title('Distribution of Duplicate and Non-Duplicate Questions')\n",
        "plt.xlabel('Is Duplicate')\n",
        "plt.ylabel('Frequency')\n",
        "plt.show()"
      ],
      "metadata": {
        "colab": {
          "base_uri": "https://localhost:8080/",
          "height": 467
        },
        "id": "bZ2cRyPrZO8w",
        "outputId": "dfcddf51-d1a5-4cc5-8fb7-e4b8fd43e9e3"
      },
      "execution_count": null,
      "outputs": [
        {
          "output_type": "display_data",
          "data": {
            "text/plain": [
              "<Figure size 640x480 with 1 Axes>"
            ],
            "image/png": "[encoded data removed]"
          },
          "metadata": {}
        }
      ]
    },
    {
      "cell_type": "code",
      "source": [
        "# Analyzing Unique and Repeated Questions\n",
        "# Concatenating qid1 and qid2 columns to calculate unique and repeated questions\n",
        "qid = pd.Series(df['qid1'].tolist() + df['qid2'].tolist())\n",
        "print('Total Unique Questions:', np.unique(qid).shape[0])"
      ],
      "metadata": {
        "colab": {
          "base_uri": "https://localhost:8080/"
        },
        "id": "94kQBJhNvYcX",
        "outputId": "5e8f7bbb-5631-4eaf-ba52-70e508872bf7"
      },
      "execution_count": null,
      "outputs": [
        {
          "output_type": "stream",
          "name": "stdout",
          "text": [
            "Total Unique Questions: 537933\n"
          ]
        }
      ]
    },
    {
      "cell_type": "code",
      "source": [
        "# Counting Repeated Questions\n",
        "# Calculating the number of questions that appear more than once\n",
        "x = qid.value_counts() > 1\n",
        "print('Number of Repeated Questions:', x[x].shape[0])"
      ],
      "metadata": {
        "colab": {
          "base_uri": "https://localhost:8080/"
        },
        "id": "kEm2iZuYvaNN",
        "outputId": "f467a10e-a4c6-4b94-b965-41e1d7adf56d"
      },
      "execution_count": null,
      "outputs": [
        {
          "output_type": "stream",
          "name": "stdout",
          "text": [
            "Number of Repeated Questions: 111780\n"
          ]
        }
      ]
    },
    {
      "cell_type": "code",
      "source": [
        "# Visualizing the Frequency of Question Occurrences\n",
        "# Histogram showing the frequency distribution of how often each question appears in the dataset\n",
        "plt.hist(qid.value_counts().values, bins=160)\n",
        "plt.yscale('log')  # Log scale for better visibility\n",
        "plt.title('Frequency Distribution of Question Occurrences')\n",
        "plt.xlabel('Number of Occurrences')\n",
        "plt.ylabel('Frequency (log scale)')\n",
        "plt.show()"
      ],
      "metadata": {
        "colab": {
          "base_uri": "https://localhost:8080/",
          "height": 472
        },
        "id": "hA85Z6GiZbNO",
        "outputId": "409e8e5e-2835-4c08-9404-f39a9ffa91b2"
      },
      "execution_count": null,
      "outputs": [
        {
          "output_type": "display_data",
          "data": {
            "text/plain": [
              "<Figure size 640x480 with 1 Axes>"
            ],
            "image/png": "[encoded data removed]"
          },
          "metadata": {}
        }
      ]
    }
  ]
}