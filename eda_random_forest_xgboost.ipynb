{
  "nbformat": 4,
  "nbformat_minor": 0,
  "metadata": {
    "colab": {
      "provenance": []
    },
    "kernelspec": {
      "name": "python3",
      "display_name": "Python 3"
    },
    "language_info": {
      "name": "python"
    }
  },
  "cells": [
    {
      "cell_type": "code",
      "source": [
        "!mkdir -p ~/.kaggle\n",
        "!mv kaggle.json ~/.kaggle/\n",
        "!chmod 600 ~/.kaggle/kaggle.json\n"
      ],
      "metadata": {
        "id": "0YYsEEaRmcqc"
      },
      "execution_count": null,
      "outputs": []
    },
    {
      "cell_type": "code",
      "source": [
        "!kaggle competitions download -c quora-question-pairs\n"
      ],
      "metadata": {
        "colab": {
          "base_uri": "https://localhost:8080/"
        },
        "id": "a21nwJ0gmfnb",
        "outputId": "82513957-73b9-45fd-c914-ee785daee797"
      },
      "execution_count": null,
      "outputs": [
        {
          "output_type": "stream",
          "name": "stdout",
          "text": [
            "Downloading quora-question-pairs.zip to /content\n",
            " 99% 306M/309M [00:04<00:00, 65.9MB/s]\n",
            "100% 309M/309M [00:04<00:00, 68.7MB/s]\n"
          ]
        }
      ]
    },
    {
      "cell_type": "code",
      "source": [
        "import zipfile\n",
        "with zipfile.ZipFile('quora-question-pairs.zip', 'r') as zip_ref:\n",
        "    zip_ref.extractall('/content/quora_question_pairs')\n"
      ],
      "metadata": {
        "id": "RqcsvdFFmgmv"
      },
      "execution_count": null,
      "outputs": []
    },
    {
      "cell_type": "code",
      "source": [
        "import zipfile\n",
        "\n",
        "# Unzip train.csv.zip\n",
        "with zipfile.ZipFile('/content/quora_question_pairs/train.csv.zip', 'r') as zip_ref:\n",
        "    zip_ref.extractall('/content/quora_question_pairs')\n"
      ],
      "metadata": {
        "id": "XcNKiJnXmhgH"
      },
      "execution_count": null,
      "outputs": []
    },
    {
      "cell_type": "markdown",
      "source": [
        "## Exploratory Data Analysis and Model Training with Random Forest and XGBoost\n",
        "\n",
        "\n"
      ],
      "metadata": {
        "id": "90w738Uvm506"
      }
    },
    {
      "cell_type": "code",
      "execution_count": null,
      "metadata": {
        "id": "sUgJ3PLckxos"
      },
      "outputs": [],
      "source": [
        "# 1. Importing Required Libraries\n",
        "\n",
        "import numpy as np\n",
        "import pandas as pd\n",
        "import matplotlib.pyplot as plt\n",
        "import seaborn as sns\n"
      ]
    },
    {
      "cell_type": "code",
      "source": [
        "# Load the dataset from a CSV file\n",
        "df = pd.read_csv(\"/content/quora_question_pairs/train.csv\")\n"
      ],
      "metadata": {
        "id": "sXU9QPrJmGZ_"
      },
      "execution_count": null,
      "outputs": []
    },
    {
      "cell_type": "code",
      "source": [
        "# Print the shape of the DataFrame (number of rows and columns)\n",
        "print(df.shape)  # Output: (404290, 6)\n",
        "\n",
        "# Display the first few rows of the DataFrame\n",
        "print(df.head())"
      ],
      "metadata": {
        "colab": {
          "base_uri": "https://localhost:8080/"
        },
        "id": "G_xEK4iomGcB",
        "outputId": "d703b4fe-bece-4d1b-c76f-d58471e06823"
      },
      "execution_count": null,
      "outputs": [
        {
          "output_type": "stream",
          "name": "stdout",
          "text": [
            "(404290, 6)\n",
            "   id  qid1  qid2                                          question1  \\\n",
            "0   0     1     2  What is the step by step guide to invest in sh...   \n",
            "1   1     3     4  What is the story of Kohinoor (Koh-i-Noor) Dia...   \n",
            "2   2     5     6  How can I increase the speed of my internet co...   \n",
            "3   3     7     8  Why am I mentally very lonely? How can I solve...   \n",
            "4   4     9    10  Which one dissolve in water quikly sugar, salt...   \n",
            "\n",
            "                                           question2  is_duplicate  \n",
            "0  What is the step by step guide to invest in sh...             0  \n",
            "1  What would happen if the Indian government sto...             0  \n",
            "2  How can Internet speed be increased by hacking...             0  \n",
            "3  Find the remainder when [math]23^{24}[/math] i...             0  \n",
            "4            Which fish would survive in salt water?             0  \n"
          ]
        }
      ]
    },
    {
      "cell_type": "code",
      "source": [
        "# Randomly sample 30,000 rows from the original DataFrame\n",
        "new_df = df.sample(30000)\n",
        "\n",
        "# Check for missing values in the DataFrame\n",
        "print(new_df.isnull().sum())\n",
        "\n",
        "# Check for duplicate rows in the DataFrame\n",
        "print(new_df.duplicated().sum())"
      ],
      "metadata": {
        "colab": {
          "base_uri": "https://localhost:8080/"
        },
        "id": "GLJ9w-EkmGeK",
        "outputId": "df7cf9a7-5632-42c4-bb39-cb22582acff8"
      },
      "execution_count": null,
      "outputs": [
        {
          "output_type": "stream",
          "name": "stdout",
          "text": [
            "id              0\n",
            "qid1            0\n",
            "qid2            0\n",
            "question1       0\n",
            "question2       0\n",
            "is_duplicate    0\n",
            "dtype: int64\n",
            "0\n"
          ]
        }
      ]
    },
    {
      "cell_type": "code",
      "source": [
        "# Create a new DataFrame with the question pairs\n",
        "ques_df = new_df[['question1', 'question2']]\n",
        "print(ques_df.head())"
      ],
      "metadata": {
        "colab": {
          "base_uri": "https://localhost:8080/"
        },
        "id": "eZQgT0i8mGgV",
        "outputId": "1ab81871-980c-487c-a715-c93252e968b1"
      },
      "execution_count": null,
      "outputs": [
        {
          "output_type": "stream",
          "name": "stdout",
          "text": [
            "                                                question1  \\\n",
            "381948  What are some ways parents can teach young chi...   \n",
            "82012            What should I do to speed up my laptop ?   \n",
            "93355                          How and why did trump win?   \n",
            "268787  How can I know whether I have what it takes to...   \n",
            "386261             What are the top Android apps of 2016?   \n",
            "\n",
            "                                                question2  \n",
            "381948  When your adult child passes away how do you h...  \n",
            "82012                      How do I speed up my computer?  \n",
            "93355              How did Donald Trump win the election?  \n",
            "268787  How do I know whether I’ll be a good programme...  \n",
            "386261          What are the top 10 Android Apps of 2015?  \n"
          ]
        }
      ]
    },
    {
      "cell_type": "code",
      "source": [
        "from sklearn.feature_extraction.text import CountVectorizer  # Import CountVectorizer for text feature extraction\n",
        "\n",
        "# Merge the texts from both question columns\n",
        "questions = list(ques_df['question1']) + list(ques_df['question2'])\n",
        "\n",
        "# Initialize CountVectorizer with a maximum of 3000 features\n",
        "cv = CountVectorizer(max_features=3000)\n",
        "\n",
        "# Transform the questions into a count matrix and split into two arrays\n",
        "q1_arr, q2_arr = np.vsplit(cv.fit_transform(questions).toarray(), 2)\n",
        "\n",
        "# Create DataFrames for each question's feature array\n",
        "temp_df1 = pd.DataFrame(q1_arr, index=ques_df.index)\n",
        "temp_df2 = pd.DataFrame(q2_arr, index=ques_df.index)\n",
        "\n",
        "# Concatenate the two DataFrames into a single DataFrame\n",
        "temp_df = pd.concat([temp_df1, temp_df2], axis=1)\n",
        "print(temp_df.shape)  # Output: (30000, 6000)"
      ],
      "metadata": {
        "colab": {
          "base_uri": "https://localhost:8080/"
        },
        "id": "QO7oZnTFmGiW",
        "outputId": "2406da3f-6ceb-477d-9d73-22b088df2f04"
      },
      "execution_count": null,
      "outputs": [
        {
          "output_type": "stream",
          "name": "stdout",
          "text": [
            "(30000, 6000)\n"
          ]
        }
      ]
    },
    {
      "cell_type": "code",
      "source": [
        "# Add the target variable to the features DataFrame\n",
        "temp_df['is_duplicate'] = new_df['is_duplicate']\n",
        "print(temp_df.head())"
      ],
      "metadata": {
        "colab": {
          "base_uri": "https://localhost:8080/"
        },
        "id": "NIYE-5zlmGkJ",
        "outputId": "262398fd-1062-4642-b7d1-66a44f0e9e36"
      },
      "execution_count": null,
      "outputs": [
        {
          "output_type": "stream",
          "name": "stdout",
          "text": [
            "        0  1  2  3  4  5  6  7  8  9  ...  2991  2992  2993  2994  2995  2996  \\\n",
            "381948  0  0  0  0  0  0  0  0  0  0  ...     1     0     1     0     0     0   \n",
            "82012   0  0  0  0  0  0  0  0  0  0  ...     0     0     0     0     0     0   \n",
            "93355   0  0  0  0  0  0  0  0  0  0  ...     0     0     0     0     0     0   \n",
            "268787  0  0  0  0  0  0  0  0  0  0  ...     0     0     0     0     0     0   \n",
            "386261  0  0  0  0  0  0  0  0  0  0  ...     0     0     0     0     0     0   \n",
            "\n",
            "        2997  2998  2999  is_duplicate  \n",
            "381948     0     0     0             0  \n",
            "82012      0     0     0             1  \n",
            "93355      0     0     0             1  \n",
            "268787     0     0     0             1  \n",
            "386261     0     0     0             0  \n",
            "\n",
            "[5 rows x 6001 columns]\n"
          ]
        }
      ]
    },
    {
      "cell_type": "code",
      "source": [
        "from sklearn.model_selection import train_test_split  # Importing train_test_split for splitting data\n",
        "\n",
        "# Split the data into training and testing sets\n",
        "X_train, X_test, y_train, y_test = train_test_split(\n",
        "    temp_df.iloc[:, 0:-1].values,  # Features\n",
        "    temp_df.iloc[:, -1].values,  # Target variable\n",
        "    test_size=0.2,  # Use 20% of data for testing\n",
        "    random_state=1  # Seed for reproducibility\n",
        ")\n"
      ],
      "metadata": {
        "id": "jJYOx6vlmGmb"
      },
      "execution_count": null,
      "outputs": []
    },
    {
      "cell_type": "code",
      "source": [
        "from sklearn.ensemble import RandomForestClassifier  # Import RandomForestClassifier\n",
        "from sklearn.metrics import accuracy_score  # Import accuracy_score to evaluate performance\n",
        "\n",
        "# Initialize and train a Random Forest classifier\n",
        "rf = RandomForestClassifier()\n",
        "rf.fit(X_train, y_train)\n",
        "\n",
        "# Make predictions on the test set\n",
        "y_pred = rf.predict(X_test)\n",
        "\n",
        "# Calculate and print the accuracy of the model\n",
        "accuracy = accuracy_score(y_test, y_pred)\n",
        "print(f'Random Forest Accuracy: {accuracy:.3f}')  # Output: e.g., 0.742"
      ],
      "metadata": {
        "colab": {
          "base_uri": "https://localhost:8080/"
        },
        "id": "USPAbMI9mGoh",
        "outputId": "8814e024-8c52-4269-8649-ad4ffc7291e4"
      },
      "execution_count": null,
      "outputs": [
        {
          "output_type": "stream",
          "name": "stdout",
          "text": [
            "Random Forest Accuracy: 0.747\n"
          ]
        }
      ]
    },
    {
      "cell_type": "code",
      "source": [
        "from xgboost import XGBClassifier  # Importing XGBoost classifier\n",
        "\n",
        "# Initialize and train an XGBoost classifier\n",
        "xgb = XGBClassifier()\n",
        "xgb.fit(X_train, y_train)\n",
        "\n",
        "# Make predictions on the test set\n",
        "y_pred_xgb = xgb.predict(X_test)\n",
        "\n",
        "# Optionally calculate and print the accuracy for the XGBoost model\n",
        "accuracy_xgb = accuracy_score(y_test, y_pred_xgb)\n",
        "print(f'XGBoost Accuracy: {accuracy_xgb:.3f}')  # Output example"
      ],
      "metadata": {
        "colab": {
          "base_uri": "https://localhost:8080/"
        },
        "id": "02u7AjNmmGqg",
        "outputId": "d8f0af29-3a29-4f64-ebb9-77c06938d8c2"
      },
      "execution_count": null,
      "outputs": [
        {
          "output_type": "stream",
          "name": "stdout",
          "text": [
            "XGBoost Accuracy: 0.729\n"
          ]
        }
      ]
    }
  ]
}